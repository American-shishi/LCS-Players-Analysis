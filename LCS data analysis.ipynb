{
 "cells": [
  {
   "cell_type": "code",
   "execution_count": 6,
   "metadata": {},
   "outputs": [
    {
     "name": "stdout",
     "output_type": "stream",
     "text": [
      "   Year   Split            Kind               Team           ID  \\\n",
      "0  2013  spring  regular season  compLexity Gaming       brunch   \n",
      "1  2013  spring  regular season  compLexity Gaming  lautemortis   \n",
      "2  2013  spring  regular season  compLexity Gaming        meyea   \n",
      "3  2013  spring  regular season  compLexity Gaming       nickwu   \n",
      "4  2013  spring  regular season  compLexity Gaming      chuuper   \n",
      "\n",
      "                Name  Place  Games  Wins  Losses  ...  Assists   KDA      CS  \\\n",
      "0      Josh Abrantes      7     28     9      19  ...     6.75  3.18  282.32   \n",
      "1     Tyler Nicholls      7     28     9      19  ...     8.68  2.57  138.25   \n",
      "2         Abe Nguyen      7     28     9      19  ...     9.93  2.99   19.50   \n",
      "3  Nicholas Wu Smith      7     28     9      19  ...     5.86  2.91  218.54   \n",
      "4         Samuel Chu      7     18     4      14  ...     5.33  2.37  243.56   \n",
      "\n",
      "   CS per Minute  Gold  Gold per Minute  Kill Part.  Kill Share  Gold Share  \\\n",
      "0           7.40  13.2            346.0         NaN         NaN         NaN   \n",
      "1           3.62   9.5            249.0         NaN         NaN         NaN   \n",
      "2           0.51   8.5            223.0         NaN         NaN         NaN   \n",
      "3           5.73  11.9            312.0         NaN         NaN         NaN   \n",
      "4           6.47  11.8            314.0         NaN         NaN         NaN   \n",
      "\n",
      "   Champs Played  \n",
      "0              6  \n",
      "1             11  \n",
      "2              9  \n",
      "3              9  \n",
      "4             10  \n",
      "\n",
      "[5 rows x 23 columns]\n"
     ]
    }
   ],
   "source": [
    "import pandas as pd\n",
    "import matplotlib.pyplot as plt\n",
    "import numpy as np\n",
    "\n",
    "df = pd.read_csv('LCSdata13_19sp.csv')\n",
    "\n",
    "print(df.head())"
   ]
  }
 ],
 "metadata": {
  "kernelspec": {
   "display_name": "Python 3",
   "language": "python",
   "name": "python3"
  },
  "language_info": {
   "codemirror_mode": {
    "name": "ipython",
    "version": 3
   },
   "file_extension": ".py",
   "mimetype": "text/x-python",
   "name": "python",
   "nbconvert_exporter": "python",
   "pygments_lexer": "ipython3",
   "version": "3.7.3"
  }
 },
 "nbformat": 4,
 "nbformat_minor": 2
}
